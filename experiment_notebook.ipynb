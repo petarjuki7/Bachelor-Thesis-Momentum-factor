{
 "cells": [
  {
   "cell_type": "code",
   "execution_count": 1,
   "metadata": {},
   "outputs": [],
   "source": [
    "import pandas as pd\n",
    "import numpy as np\n",
    "import matplotlib.pyplot as plt\n",
    "from sklearn.utils import assert_all_finite\n",
    "from sklearn import preprocessing\n",
    "from sklearn import svm\n",
    "from sklearn.model_selection import train_test_split \n",
    "from sklearn.metrics import *\n",
    "from sklearn.preprocessing import StandardScaler\n",
    "from sklearn.model_selection import GridSearchCV \n",
    "from sklearn.svm import SVC \n",
    "import pandas_datareader.data as web \n",
    "from sklearn.linear_model import SGDClassifier"
   ]
  },
  {
   "cell_type": "code",
   "execution_count": 2,
   "metadata": {},
   "outputs": [],
   "source": [
    "start = '2005-01-03'\n",
    "end = '2018-12-31'"
   ]
  },
  {
   "cell_type": "code",
   "execution_count": 4,
   "metadata": {},
   "outputs": [],
   "source": [
    "csv = pd.read_csv('NYSE_prices_daily.csv')\n",
    "lista_kompanija = list(csv.columns)[1:] #Loading the names of companies\n",
    "lista_kompanija = lista_kompanija\n",
    "dict_kompanija = {}"
   ]
  },
  {
   "cell_type": "code",
   "execution_count": null,
   "metadata": {},
   "outputs": [],
   "source": [
    "for kompanija in lista_kompanija:\n",
    "    try:\n",
    "        dict_kompanija[kompanija] = web.DataReader(kompanija, 'yahoo', start, end) \n",
    "    except:\n",
    "        print(\"Greška kod \" + kompanija) #Remove the companies which don't have all the dates in the given range"
   ]
  },
  {
   "cell_type": "code",
   "execution_count": 6,
   "metadata": {},
   "outputs": [],
   "source": [
    "lista_kompanija = set(lista_kompanija).intersection(set(dict_kompanija.keys()))"
   ]
  },
  {
   "cell_type": "code",
   "execution_count": 7,
   "metadata": {},
   "outputs": [],
   "source": [
    "#Constructing a dataset where I will train on 70% of the data and test on 30%\n",
    "\n",
    "frames = dict_kompanija.values()\n",
    "df_all = pd.concat(frames) #Connecting all of the companies in one dataframe (training on 70%, testing on 30%)\n",
    "prices_all = list(df_all[\"Adj Close\"]) #Get the prices of all the companies\n",
    "volume_all = list(df_all[\"Volume\"]) #Get the volume of all the companies"
   ]
  },
  {
   "cell_type": "code",
   "execution_count": null,
   "metadata": {},
   "outputs": [],
   "source": []
  },
  {
   "cell_type": "code",
   "execution_count": 9,
   "metadata": {},
   "outputs": [],
   "source": [
    "#Splitting the dataset into training and testing sets\n",
    "\n",
    "train_set = []\n",
    "test_set = []\n",
    "for kompanija in dict_kompanija.values():\n",
    "    X,y = train_test_split(kompanija)\n",
    "    train_set.append(X)\n",
    "    test_set.append(y)\n",
    "\n",
    "df_time_train = pd.concat(train_set)\n",
    "df_time_test = pd.concat(test_set)\n",
    "\n",
    "prices_time_train = list(df_time_train[\"Adj Close\"])\n",
    "volume_time_train = list(df_time_train[\"Volume\"])\n",
    "prices_time_test = list(df_time_test[\"Adj Close\"])\n",
    "volume_time_test = list(df_time_test[\"Volume\"])"
   ]
  },
  {
   "cell_type": "code",
   "execution_count": null,
   "metadata": {},
   "outputs": [],
   "source": []
  },
  {
   "cell_type": "markdown",
   "metadata": {},
   "source": [
    "### Constructing various trading indicators"
   ]
  },
  {
   "cell_type": "markdown",
   "metadata": {},
   "source": [
    "#### Moving average convergence/divergence indicator"
   ]
  },
  {
   "cell_type": "code",
   "execution_count": 10,
   "metadata": {},
   "outputs": [],
   "source": [
    "def macd_func(df):\n",
    "    df_macd = df.copy()\n",
    "    exp1 = df_macd[\"Close\"].ewm(span=12, adjust=False).mean() #12 day EMA (exponential moving average)\n",
    "    exp2 = df_macd[\"Close\"].ewm(span=26, adjust=False).mean() #26 day EMA\n",
    "    macd = exp1-exp2\n",
    "    signal = macd.ewm(span=9, adjust=False).mean() #9 dana EMA\n",
    "    \n",
    "    #macd_array = list(1 * pd.Series(macd - signal > 0).dropna()) \n",
    "        \n",
    "    return macd.tolist(), signal.tolist() "
   ]
  },
  {
   "cell_type": "code",
   "execution_count": 11,
   "metadata": {},
   "outputs": [],
   "source": [
    "macd, signal = macd_func(df_all[100:150])"
   ]
  },
  {
   "cell_type": "code",
   "execution_count": 12,
   "metadata": {},
   "outputs": [
    {
     "data": {
      "image/png": "[encoded data removed]",
      "text/plain": [
       "<Figure size 432x288 with 1 Axes>"
      ]
     },
     "metadata": {
      "needs_background": "light"
     },
     "output_type": "display_data"
    }
   ],
   "source": [
    "plt.plot(macd, color = 'red')\n",
    "plt.plot(signal, color='blue')\n",
    "plt.show()"
   ]
  },
  {
   "cell_type": "code",
   "execution_count": 14,
   "metadata": {},
   "outputs": [
    {
     "data": {
      "text/plain": [
       "10"
      ]
     },
     "execution_count": 14,
     "metadata": {},
     "output_type": "execute_result"
    }
   ],
   "source": [
    "crossed(macd, signal)"
   ]
  },
  {
   "cell_type": "code",
   "execution_count": 13,
   "metadata": {},
   "outputs": [],
   "source": [
    "#Calculate how many time have the 12 day and 26 day moving averages crossed\n",
    "\n",
    "def crossed(price1, price2):\n",
    "    counter = 0\n",
    "    presjek = 0\n",
    "    for i in range(len(price1)):\n",
    "        if((presjek == 0) and (price1[i] <= price2[i])):\n",
    "            counter += 1\n",
    "            presjek = 1\n",
    "        if((presjek == 1) and (price1[i] > price2[i])):\n",
    "            counter += 1\n",
    "            presjek = 0\n",
    "    return counter"
   ]
  },
  {
   "cell_type": "code",
   "execution_count": 15,
   "metadata": {},
   "outputs": [],
   "source": [
    "#Calculate have the two lines crossed\n",
    "\n",
    "def crossed2(price1, price2):\n",
    "    for i in range(len(price1)):\n",
    "        if (price1[i] <= price2[i]):\n",
    "            return 1 #if they cross I return 1\n",
    "    return 0"
   ]
  },
  {
   "cell_type": "markdown",
   "metadata": {},
   "source": [
    "#### Average true range"
   ]
  },
  {
   "cell_type": "code",
   "execution_count": 16,
   "metadata": {},
   "outputs": [],
   "source": [
    "def atr(df):\n",
    "    high_low = df['High'] - df['Low']\n",
    "    high_close = np.abs(df['High'] - df['Close'].shift())\n",
    "    low_close = np.abs(df['Low'] - df['Close'].shift())\n",
    "\n",
    "    ranges = pd.concat([high_low, high_close, low_close], axis=1)\n",
    "    true_range = np.max(ranges, axis=1)\n",
    "\n",
    "    atr = true_range.rolling(14).sum()/14\n",
    "    return atr.dropna()"
   ]
  },
  {
   "cell_type": "markdown",
   "metadata": {},
   "source": [
    "#### Williams %R"
   ]
  },
  {
   "cell_type": "code",
   "execution_count": 17,
   "metadata": {},
   "outputs": [],
   "source": [
    "def williams_indicator(df):\n",
    "    highh = df['High'].rolling(14).max() \n",
    "    lowl = df['Low'].rolling(14).min()\n",
    "    wr = -100 * ((highh - df['Close']) / (highh - lowl))\n",
    "    return wr.dropna()"
   ]
  },
  {
   "cell_type": "markdown",
   "metadata": {},
   "source": [
    "#### Stochastic Oscilator"
   ]
  },
  {
   "cell_type": "code",
   "execution_count": 18,
   "metadata": {},
   "outputs": [],
   "source": [
    "def stochastic_oscilator(df):\n",
    "    \n",
    "    #Calculating the column of the lowest price in the last 14 days\n",
    "    df_stochastic = df.copy()\n",
    "    df_stochastic['L14'] = df_stochastic['Low'].rolling(window=14).min()\n",
    "\n",
    "    #Calculating the column of the highest price in the last 14 days\n",
    "    df_stochastic['H14'] = df_stochastic['High'].rolling(window=14).max()\n",
    "\n",
    "    #Calculating the values of the stochastic indicator\n",
    "    df_stochastic['%K'] = 100*((df_stochastic['Close'] - df_stochastic['L14']) /\n",
    "                               (df_stochastic['H14'] - df_stochastic['L14']) )\n",
    "\n",
    "    df_stochastic_serija = df_stochastic[\"%K\"]\n",
    "\n",
    "    return list(df_stochastic_serija.dropna())"
   ]
  },
  {
   "cell_type": "markdown",
   "metadata": {},
   "source": [
    "#### RSI 2"
   ]
  },
  {
   "cell_type": "code",
   "execution_count": 19,
   "metadata": {
    "scrolled": true
   },
   "outputs": [],
   "source": [
    "def rsi2(close, window_length):\n",
    "    #Calculating the difference in prices\n",
    "    delta = pd.Series(close).diff()\n",
    "    \n",
    "    #Remove the first NaN row\n",
    "    delta = delta[1:] \n",
    "\n",
    "    #Split the differences to positive and negative\n",
    "    up, down = delta.copy(), delta.copy()\n",
    "    up[up < 0] = 0\n",
    "    down[down > 0] = 0\n",
    "\n",
    "    #Calculating the EMA\n",
    "    roll_up = up.ewm(span=window_length).mean()\n",
    "    roll_down = down.abs().ewm(span=window_length).mean()\n",
    "\n",
    "    #Calculating the RSI with the help of EMA\n",
    "    RS = roll_up / roll_down\n",
    "    RSI = 100.0 - (100.0 / (1.0 + RS))\n",
    "    RSI_adj = RSI[1:]\n",
    "    \n",
    "    return RSI_adj"
   ]
  },
  {
   "cell_type": "code",
   "execution_count": null,
   "metadata": {},
   "outputs": [],
   "source": []
  },
  {
   "cell_type": "markdown",
   "metadata": {},
   "source": [
    "#### Function for constructing our vectors X for training the model"
   ]
  },
  {
   "cell_type": "code",
   "execution_count": 24,
   "metadata": {},
   "outputs": [],
   "source": [
    "def calc(daysObservation, daysMark, indicator, df, prices, volume):\n",
    "    trenutni = []\n",
    "    \n",
    "    df = df.copy()\n",
    "        \n",
    "    step = daysObservation + daysMark\n",
    "\n",
    "    odmak = len(prices) % step\n",
    "\n",
    "    X = []\n",
    "    y = []\n",
    "    prices_observation = []\n",
    "    for i in range(0, len(prices) - odmak, step):\n",
    "        prices_observation = prices[i:i+daysObservation]\n",
    "        prices_observation.extend(volume[i:i+daysObservation]) #Adding trading volume X\n",
    "        \n",
    "        prices_observation.extend(rsi2(prices[i:i+daysObservation], daysObservation)) #Adding rsi to X\n",
    "        \n",
    "        #Adding the stochastic oscilator to X\n",
    "        prices_observation.extend(stochastic_oscilator(df.iloc[i:i+daysObservation]))\n",
    "        \n",
    "        prices_observation.extend(atr(df.iloc[i:i+daysObservation])) #Adding average true range to X\n",
    "        \n",
    "        prices_observation.extend(williams_indicator(df.iloc[i:i+daysObservation])) #Adding williams indicator to X\n",
    "        \n",
    "        X.append(prices_observation)\n",
    "        \n",
    "        macd, signal = macd_func(df[i:i+step]) #calculating macd and signal for the whole period\n",
    "        \n",
    "        macd_look_forward = macd[daysObservation:step]\n",
    "        signal_look_forward = signal[daysObservation:step] \n",
    "        \n",
    "        if(crossed2(macd_look_forward, signal_look_forward)): #Checking has the line crossed in the last \"look_forward\" period\n",
    "            y.append(0) #If it has, it signals a change to a negative trend (change of trend)\n",
    "        else:\n",
    "            y.append(1) #If it hasn't, it stays positive (continuation of trend)\n",
    "\n",
    "    try:\n",
    "        assert_all_finite(X)\n",
    "    except ValueError:\n",
    "        return \"Greska sa X\" #error with X\n",
    "        \n",
    "    try:\n",
    "        assert_all_finite(y)\n",
    "    except ValueError:\n",
    "        return \"Greska sa y\" #error with y\n",
    "        \n",
    "    accuracy, f1, roc_auc = train(X,y,'all',0,0,0,0)\n",
    "    \n",
    "    return [daysObservation, daysMark, accuracy, f1, roc_auc]\n"
   ]
  },
  {
   "cell_type": "code",
   "execution_count": null,
   "metadata": {},
   "outputs": [],
   "source": []
  },
  {
   "cell_type": "markdown",
   "metadata": {},
   "source": [
    "#### Function for training the model"
   ]
  },
  {
   "cell_type": "code",
   "execution_count": 22,
   "metadata": {},
   "outputs": [],
   "source": [
    "def train(X, y, mode, X_train, X_test, y_train, y_test):\n",
    "    if(mode != 'time'):\n",
    "        #Split the dataset in training and testing sets\n",
    "        X_train, X_test, y_train, y_test = train_test_split(X, y)\n",
    "    \n",
    "    #Scaling the data\n",
    "    scaler = StandardScaler()\n",
    "    X_train_scaled = scaler.fit_transform(X_train)\n",
    "    X_test_scaled = scaler.transform(X_test)\n",
    "    \n",
    "    clf = SGDClassifier()\n",
    "    \n",
    "    classes1 = np.array([0,1])\n",
    "    \n",
    "    #Splitting X and y\n",
    "    \n",
    "    X_split = np.array_split(X_train_scaled, 50)\n",
    "    y_split = np.array_split(y_train, 50)\n",
    "    \n",
    "    clf.partial_fit(X_split[0], y_split[0], classes = classes1)\n",
    "    \n",
    "    for i in range(1, len(X_split)):\n",
    "        clf.partial_fit(X_split[i], y_split[i])\n",
    "    \n",
    "    #Predictions of the model\n",
    "    predictions = clf.predict(X_test_scaled)\n",
    "    \n",
    "    #Calculating different metrics\n",
    "    accuracy = accuracy_score(y_test, predictions)\n",
    "    f1 = f1_score(y_test, predictions)\n",
    "    roc_auc = roc_auc_score(y_test, predictions)\n",
    "    \n",
    "    return accuracy, f1, roc_auc"
   ]
  },
  {
   "cell_type": "code",
   "execution_count": null,
   "metadata": {},
   "outputs": [],
   "source": []
  },
  {
   "cell_type": "markdown",
   "metadata": {},
   "source": [
    "#### Predictions and metrics when testing vertical universality (training on all the data from 70% of companies, testing on 30%)"
   ]
  },
  {
   "cell_type": "code",
   "execution_count": null,
   "metadata": {},
   "outputs": [],
   "source": [
    "predictions = []\n",
    "predictions_dict = {}\n",
    "predictions_list_dict = []\n",
    "daysObservation_array = [26]\n",
    "daysMark_array = [9] \n",
    "\n",
    "indicator_array =  ['macd']\n",
    "\n",
    "for indicator in indicator_array:\n",
    "    for daysObservation in daysObservation_array:\n",
    "        for daysMark in daysMark_array:\n",
    "            predictions = calc(daysObservation, daysMark, indicator, df_all, prices_all, volume_all)\n",
    "            \n",
    "            predictions_dict = {'indicator': indicator, 'days_observed': predictions[0], 'days_marked': predictions[1],\n",
    "                             'accuracy':predictions[2], 'f1_score':predictions[3], 'auc_roc': predictions[4]}\n",
    "            predictions_list_dict.append(predictions_dict)"
   ]
  },
  {
   "cell_type": "code",
   "execution_count": 27,
   "metadata": {},
   "outputs": [
    {
     "data": {
      "text/plain": [
       "[{'indicator': 'macd',\n",
       "  'days_observed': 26,\n",
       "  'days_marked': 9,\n",
       "  'accuracy': 0.8667493796526055,\n",
       "  'f1_score': 0.6815789473684211,\n",
       "  'auc_roc': 0.8078938958133588}]"
      ]
     },
     "execution_count": 27,
     "metadata": {},
     "output_type": "execute_result"
    }
   ],
   "source": [
    "predictions_list_dict"
   ]
  },
  {
   "cell_type": "code",
   "execution_count": null,
   "metadata": {},
   "outputs": [],
   "source": []
  },
  {
   "cell_type": "code",
   "execution_count": null,
   "metadata": {},
   "outputs": [],
   "source": []
  },
  {
   "cell_type": "markdown",
   "metadata": {},
   "source": [
    "#### Predictions and metrics when testing time universality (training on 70% of the data from all companies, testing on 30%)"
   ]
  },
  {
   "cell_type": "code",
   "execution_count": null,
   "metadata": {},
   "outputs": [],
   "source": [
    "X_train, y_train = calc(26, 9, 'macd', df_time_train, prices_time_train, volume_time_train)\n",
    "X_test, y_test = calc(26, 9, 'macd', df_time_test, prices_time_test, volume_time_test)\n",
    "predictions = train(0, 0, 'time', X_train, X_test, y_train, y_test)"
   ]
  },
  {
   "cell_type": "code",
   "execution_count": 29,
   "metadata": {},
   "outputs": [
    {
     "data": {
      "text/plain": [
       "{'indicator': 'macd',\n",
       " 'days_observed': 26,\n",
       " 'days_marked': 9,\n",
       " 'accuracy': 0.8686567164179104,\n",
       " 'f1_score': 0.77906976744186046,\n",
       " 'auc_roc': 0.8004252565406305}"
      ]
     },
     "execution_count": 29,
     "metadata": {},
     "output_type": "execute_result"
    }
   ],
   "source": [
    "predictions_dict = {'indicator': 'macd', 'days_observed': 26, 'days_marked': 9,\n",
    "                             'accuracy':predictions[0], 'f1_score':predictions[1], 'auc_roc': predictions[2]}\n",
    "predictions_dict"
   ]
  },
  {
   "cell_type": "code",
   "execution_count": null,
   "metadata": {},
   "outputs": [],
   "source": []
  }
 ],
 "metadata": {
  "kernelspec": {
   "display_name": "Python 3",
   "language": "python",
   "name": "python3"
  },
  "language_info": {
   "codemirror_mode": {
    "name": "ipython",
    "version": 3
   },
   "file_extension": ".py",
   "mimetype": "text/x-python",
   "name": "python",
   "nbconvert_exporter": "python",
   "pygments_lexer": "ipython3",
   "version": "3.7.2"
  }
 },
 "nbformat": 4,
 "nbformat_minor": 4
}
